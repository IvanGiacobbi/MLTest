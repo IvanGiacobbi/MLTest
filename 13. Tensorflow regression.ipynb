{
 "cells": [
  {
   "cell_type": "code",
   "execution_count": 1,
   "metadata": {},
   "outputs": [],
   "source": [
    "import tensorflow as tf\n",
    "import numpy as np"
   ]
  },
  {
   "cell_type": "code",
   "execution_count": 2,
   "metadata": {},
   "outputs": [],
   "source": [
    "g= tf.Graph()# creazione del grafico\n",
    "with g.as_default(): #aggiunta dei nodi\n",
    "    tf.set_random_seed(123)\n",
    "    #placeholders\n",
    "    tf_x=tf.placeholder(shape=(None),\n",
    "                       dtype=tf.float32,\n",
    "                       name='tf_x')\n",
    "    tf_y=tf.placeholder(shape=(None),\n",
    "                       dtype=tf.float32,\n",
    "                       name='tf_y')\n",
    "    #variabili\n",
    "    weight=tf.Variable(\n",
    "        tf.random_normal(\n",
    "            shape=(1,1),\n",
    "            stddev=0.25),\n",
    "            name='weight')\n",
    "    bias=tf.Variable(0.0, name='bias')\n",
    "    #modello\n",
    "    y_hat=tf.add(weight * tf_x, bias,\n",
    "                name='y_hat')\n",
    "    cost=tf.reduce_mean(tf.square(tf_y-y_hat), #MSE\n",
    "                       name='cost')\n",
    "    #addestramento del modello\n",
    "    optim=tf.train.GradientDescentOptimizer(learning_rate=0.001)\n",
    "    train_op=optim.minimize(cost,\n",
    "                           name='train_op')\n",
    "    #Prepariamo il salvataggio del modello\n",
    "    saver=tf.train.Saver()"
   ]
  },
  {
   "cell_type": "code",
   "execution_count": 3,
   "metadata": {},
   "outputs": [
    {
     "data": {
      "text/plain": [
       "<Figure size 640x480 with 1 Axes>"
      ]
     },
     "metadata": {},
     "output_type": "display_data"
    }
   ],
   "source": [
    "#Creazione di un dataset random\n",
    "import matplotlib.pyplot as plt\n",
    "np.random.seed(0)\n",
    "def make_random_data():\n",
    "    x= np.random.uniform(low=-2, high=4, size=200)\n",
    "    y= []\n",
    "    for t in x:\n",
    "        r=np.random.normal(loc=0.0,\n",
    "                           scale=0.5*t*t/3,\n",
    "                           size=None)\n",
    "        y.append(r)\n",
    "    return x, 1.726*x-0.84+np.array(y)\n",
    "x, y= make_random_data()\n",
    "plt.plot(x, y, 'o')\n",
    "plt.show()\n",
    "        \n",
    "        "
   ]
  },
  {
   "cell_type": "code",
   "execution_count": 4,
   "metadata": {},
   "outputs": [
    {
     "name": "stdout",
     "output_type": "stream",
     "text": [
      "Epoch    0: 11.0212\n",
      "Epoch   50: 5.9524\n",
      "Epoch  100: 3.5737\n",
      "Epoch  150: 2.4277\n",
      "Epoch  200: 1.8507\n",
      "Epoch  250: 1.5401\n",
      "Epoch  300: 1.3573\n",
      "Epoch  350: 1.2385\n",
      "Epoch  400: 1.1538\n",
      "Epoch  450: 1.0890\n"
     ]
    }
   ],
   "source": [
    "#split train/test\n",
    "x_train, y_train= x[:100], y[:100]\n",
    "x_test, y_test= x[100:], y[100:]\n",
    "n_epochs=500\n",
    "training_cost=[]\n",
    "with tf.Session(graph=g) as sess: #sessione per lancio grafico comuptazionale\n",
    "    #Inizializzazioni delle variabili\n",
    "    sess.run(tf.global_variables_initializer())\n",
    "    #Addestramento modello per n_epochs iterazioni\n",
    "    for e in range(n_epochs):\n",
    "        c, _ =sess.run(['cost:0', 'train_op'], #usiamo il nome delle variabili\n",
    "                       feed_dict={'tf_x:0': x_train,\n",
    "                                  'tf_y:0': y_train})\n",
    "        training_cost.append(c)\n",
    "        if e%50 == 0:\n",
    "            print('Epoch {:4d}: {:.4f}'.format(e, c))\n",
    "        #salviamo il modello appena addestrato\n",
    "        saver.save(sess, './trained-model')    \n",
    "                       \n",
    "    "
   ]
  },
  {
   "cell_type": "code",
   "execution_count": 5,
   "metadata": {},
   "outputs": [
    {
     "data": {
      "image/png": "[encoded data removed]",
      "text/plain": [
       "<Figure size 432x288 with 1 Axes>"
      ]
     },
     "metadata": {
      "needs_background": "light"
     },
     "output_type": "display_data"
    }
   ],
   "source": [
    "plt.plot(training_cost)\n",
    "plt.show()"
   ]
  },
  {
   "cell_type": "code",
   "execution_count": 6,
   "metadata": {},
   "outputs": [
    {
     "name": "stdout",
     "output_type": "stream",
     "text": [
      "INFO:tensorflow:Restoring parameters from ./trained-model\n"
     ]
    }
   ],
   "source": [
    "#Ora ricarichiamo la sessione per riusare il modello appena addestrato con i dati di test\n",
    "g2= tf.Graph()\n",
    "with tf.Session(graph=g2) as sess:\n",
    "    new_saver=tf.train.import_meta_graph('./trained-model.meta') #importiamo il grafico\n",
    "    new_saver.restore(sess, './trained-model') #importiamo le variabili\n",
    "    y_pred=sess.run('y_hat:0',\n",
    "                   feed_dict={'tf_x:0': x_test})"
   ]
  },
  {
   "cell_type": "code",
   "execution_count": 9,
   "metadata": {},
   "outputs": [
    {
     "name": "stdout",
     "output_type": "stream",
     "text": [
      "INFO:tensorflow:Restoring parameters from ./trained-model\n"
     ]
    },
    {
     "data": {
      "image/png": "[encoded data removed]",
      "text/plain": [
       "<Figure size 432x288 with 1 Axes>"
      ]
     },
     "metadata": {
      "needs_background": "light"
     },
     "output_type": "display_data"
    }
   ],
   "source": [
    "#Ora eseguiamo una predizione su nuovi dati\n",
    "x_arr=np.arange(-2, 4, 0.1)\n",
    "g2=tf.Graph()\n",
    "with tf.Session(graph=g2) as sess:\n",
    "    new_saver=tf.train.import_meta_graph('./trained-model.meta') #importiamo il grafico\n",
    "    new_saver.restore(sess, './trained-model') #importiamo le variabili\n",
    "    y_arr=sess.run('y_hat:0',\n",
    "                  feed_dict={'tf_x:0': x_arr})\n",
    "    #visualizziamo il grafico\n",
    "    file_writer=tf.summary.FileWriter(logdir='./logs/', graph=g2)\n",
    "plt.figure()\n",
    "plt.plot(x_train, y_train, 'bo')\n",
    "plt.plot(x_test, y_test, 'bo', alpha=0.3)\n",
    "plt.plot(x_arr, y_arr.T[:,0], '-r', lw=3)\n",
    "plt.show()"
   ]
  },
  {
   "cell_type": "code",
   "execution_count": 8,
   "metadata": {},
   "outputs": [],
   "source": [
    "#Eseguire da console: tensorboard --logdir /percorso directory/logs/\n",
    "#Appare un indirizzo da cliccare, se non va eseguire pip install tb-nightly \n",
    "#Aprire il browser in http://localhost:6006/#graphs"
   ]
  },
  {
   "cell_type": "code",
   "execution_count": null,
   "metadata": {},
   "outputs": [],
   "source": []
  },
  {
   "cell_type": "code",
   "execution_count": null,
   "metadata": {},
   "outputs": [],
   "source": []
  }
 ],
 "metadata": {
  "kernelspec": {
   "display_name": "Python 3",
   "language": "python",
   "name": "python3"
  },
  "language_info": {
   "codemirror_mode": {
    "name": "ipython",
    "version": 3
   },
   "file_extension": ".py",
   "mimetype": "text/x-python",
   "name": "python",
   "nbconvert_exporter": "python",
   "pygments_lexer": "ipython3",
   "version": "3.6.6"
  }
 },
 "nbformat": 4,
 "nbformat_minor": 2
}
