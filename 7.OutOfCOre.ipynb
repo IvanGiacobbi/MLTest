{
 "cells": [
  {
   "cell_type": "code",
   "execution_count": 2,
   "metadata": {
    "collapsed": false
   },
   "outputs": [],
   "source": [
    "#out-of-core learning (permette si addestrare il modello incrementalmente su batch più piccoli del dataset originale )\n",
    "import numpy as np\n",
    "import re\n",
    "from nltk.corpus import stopwords\n",
    "stop=stopwords.words('english')\n",
    "def tokenizer(text): #puliamo i dati\n",
    "    text=re.sub('<[^>]*>','',text)\n",
    "    emoticons=re.findall('(?::|;|=)(?:-)?(?:\\)|\\(|D|P)', text.lower())\n",
    "    text=(re.sub('[\\W]+', ' ',text.lower())+' '.join(emoticons).replace('-','')) #toglie inasi dalle emoticon da :-) a :)\n",
    "    tokenized= [w for w in text.split() if w not in stop]\n",
    "    return tokenized\n",
    "\n",
    "def stream_docs(path): #leggiamo un documento alla volta\n",
    "    with open(path, 'r', encoding='utf-8') as csv:\n",
    "        next(csv) #skip header\n",
    "        for line in csv:\n",
    "            text, label= line[:-3], int(line[-2])\n",
    "            yield text, label\n",
    "       "
   ]
  },
  {
   "cell_type": "code",
   "execution_count": 3,
   "metadata": {
    "collapsed": false
   },
   "outputs": [
    {
     "data": {
      "text/plain": [
       "('\"Compared to the acclaimed Hollywood remake, this film is less flashy but much stronger at providing an overall picture of the drug problem. The remake loses the most interesting of the three plot threads, that of a farmer whose meager livelihood depends on drugs as a paying cash crop and whose increased involvement with the drug trade in an effort to better himself destroys himself and his family. Additionally, the story of the daughter\\'s addiction goes into the problems not only of withdrawal but the high likelihood of relapse. This original miniseries makes good use of the additional time to go into the issues more thoroughly and remains stronger meat on this controversial subject.\"',\n",
       " 1)"
      ]
     },
     "execution_count": 3,
     "metadata": {},
     "output_type": "execute_result"
    }
   ],
   "source": [
    "#PRendiamo un solo documento\n",
    "next(stream_docs(path='movie_data.csv')) #visualizza la prima riga del file csv formata da review (testo) e sentiment (classe=1)"
   ]
  },
  {
   "cell_type": "code",
   "execution_count": 13,
   "metadata": {
    "collapsed": false
   },
   "outputs": [],
   "source": [
    "#Usiamo la funzione precedente per prelevare più documenti (batch del dataset orginale)\n",
    "def get_minibatch(doc_stream, size):\n",
    "    docs, y = [], []\n",
    "    try:\n",
    "        for _ in range (size):\n",
    "            text, label=next(doc_stream)\n",
    "            docs.append(text)\n",
    "            y.append(label)\n",
    "    except StopIteration:\n",
    "        return None, None\n",
    "    return docs, y"
   ]
  },
  {
   "cell_type": "code",
   "execution_count": 14,
   "metadata": {
    "collapsed": true
   },
   "outputs": [],
   "source": [
    "from sklearn.feature_extraction.text import HashingVectorizer\n",
    "from sklearn.linear_model import SGDClassifier"
   ]
  },
  {
   "cell_type": "code",
   "execution_count": 15,
   "metadata": {
    "collapsed": false
   },
   "outputs": [],
   "source": [
    "vect=HashingVectorizer(decode_error='ignore',\n",
    "                      n_features=2**21,\n",
    "                      preprocessor=None,\n",
    "                      tokenizer=tokenizer)"
   ]
  },
  {
   "cell_type": "code",
   "execution_count": 16,
   "metadata": {
    "collapsed": true
   },
   "outputs": [],
   "source": [
    "clf=SGDClassifier(loss='log',\n",
    "                 random_state=1,\n",
    "                 n_iter=1)"
   ]
  },
  {
   "cell_type": "code",
   "execution_count": 23,
   "metadata": {
    "collapsed": true
   },
   "outputs": [],
   "source": [
    "doc_stream=stream_docs(path='movie_data.csv')"
   ]
  },
  {
   "cell_type": "code",
   "execution_count": 24,
   "metadata": {
    "collapsed": false
   },
   "outputs": [
    {
     "name": "stderr",
     "output_type": "stream",
     "text": [
      "0% [##############################] 100% | ETA: 00:00:00\n",
      "Total time elapsed: 00:01:16\n"
     ]
    }
   ],
   "source": [
    "import pyprind\n",
    "pbar= pyprind.ProgBar(45)\n",
    "classes=np.array([0, 1])\n",
    "for _ in range (45): #creiamo 45 mini batch da 1000 documenti e per ogni mini batch addestriamo il modello\n",
    "    X_train, y_train= get_minibatch(doc_stream, size=1000)\n",
    "    if not X_train:\n",
    "        break\n",
    "    X_train= vect.transform(X_train)\n",
    "    clf.partial_fit(X_train, y_train, classes=classes)\n",
    "    pbar.update()\n"
   ]
  },
  {
   "cell_type": "code",
   "execution_count": 25,
   "metadata": {
    "collapsed": false
   },
   "outputs": [
    {
     "name": "stdout",
     "output_type": "stream",
     "text": [
      "Accuratezza: 0.875\n"
     ]
    }
   ],
   "source": [
    "#usiamo gli ultimi 5000 documenti per testare l'algoritmo\n",
    "X_test, y_test = get_minibatch(doc_stream, size=5000)\n",
    "X_test=vect.transform(X_test)\n",
    "print('Accuratezza: %.3f' % clf.score(X_test, y_test))"
   ]
  },
  {
   "cell_type": "code",
   "execution_count": 28,
   "metadata": {
    "collapsed": false
   },
   "outputs": [
    {
     "name": "stdout",
     "output_type": "stream",
     "text": [
      "Accuratezza: 0.891\n"
     ]
    }
   ],
   "source": [
    "clf=clf.partial_fit(X_test,y_test)\n",
    "print('Accuratezza: %.3f' % clf.score(X_test, y_test))"
   ]
  },
  {
   "cell_type": "code",
   "execution_count": null,
   "metadata": {
    "collapsed": true
   },
   "outputs": [],
   "source": [
    "#l'accuratezza è migliorata. Anche se è inferiore a quella del metodo tradizionale (0.891 vs 0.901), è comunque buona e richiede molto meno tempo (1 min contro 137)."
   ]
  }
 ],
 "metadata": {
  "kernelspec": {
   "display_name": "Python 3",
   "language": "python",
   "name": "python3"
  },
  "language_info": {
   "codemirror_mode": {
    "name": "ipython",
    "version": 3
   },
   "file_extension": ".py",
   "mimetype": "text/x-python",
   "name": "python",
   "nbconvert_exporter": "python",
   "pygments_lexer": "ipython3",
   "version": "3.6.0"
  }
 },
 "nbformat": 4,
 "nbformat_minor": 2
}
