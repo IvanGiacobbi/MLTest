{
 "cells": [
  {
   "cell_type": "code",
   "execution_count": 2,
   "metadata": {
    "collapsed": false
   },
   "outputs": [],
   "source": [
    "import pyprind\n",
    "import pandas as pd\n",
    "import os"
   ]
  },
  {
   "cell_type": "code",
   "execution_count": 3,
   "metadata": {
    "collapsed": true
   },
   "outputs": [],
   "source": [
    "basepath = '/home/ivan/data_science/ML/aclImdb'"
   ]
  },
  {
   "cell_type": "code",
   "execution_count": 4,
   "metadata": {
    "collapsed": false
   },
   "outputs": [
    {
     "name": "stderr",
     "output_type": "stream",
     "text": [
      "0% [##############################] 100% | ETA: 00:00:00\n",
      "Total time elapsed: 00:10:03\n"
     ]
    }
   ],
   "source": [
    "#creiamo un dataframe con i file delle recensioni\n",
    "labels = {'pos':1, 'neg':0}\n",
    "pbar=pyprind.ProgBar(50000)\n",
    "df=pd.DataFrame()\n",
    "for s in ('test', 'train'):\n",
    "    for l in ('pos','neg') :\n",
    "        path=os.path.join(basepath, s, l)\n",
    "        for file in os.listdir(path):\n",
    "            with open(os.path.join(path, file), 'r', encoding='utf-8') as infile:\n",
    "                txt=infile.read()\n",
    "                df=df.append([[txt, labels[l]]], ignore_index=True)\n",
    "                pbar.update()\n",
    "df.columns=['review','sentiment']                \n",
    "                \n",
    "                "
   ]
  },
  {
   "cell_type": "code",
   "execution_count": 5,
   "metadata": {
    "collapsed": false
   },
   "outputs": [
    {
     "data": {
      "text/html": [
       "<div>\n",
       "<table border=\"1\" class=\"dataframe\">\n",
       "  <thead>\n",
       "    <tr style=\"text-align: right;\">\n",
       "      <th></th>\n",
       "      <th>review</th>\n",
       "      <th>sentiment</th>\n",
       "    </tr>\n",
       "  </thead>\n",
       "  <tbody>\n",
       "    <tr>\n",
       "      <th>0</th>\n",
       "      <td>A recent re-issue of the French crime film (or...</td>\n",
       "      <td>1</td>\n",
       "    </tr>\n",
       "    <tr>\n",
       "      <th>1</th>\n",
       "      <td>I watched Cold Mountain and the English Patien...</td>\n",
       "      <td>1</td>\n",
       "    </tr>\n",
       "    <tr>\n",
       "      <th>2</th>\n",
       "      <td>For those who have enjoyed the Asterix books a...</td>\n",
       "      <td>1</td>\n",
       "    </tr>\n",
       "    <tr>\n",
       "      <th>3</th>\n",
       "      <td>are you crazy or what? this movie has talent w...</td>\n",
       "      <td>1</td>\n",
       "    </tr>\n",
       "    <tr>\n",
       "      <th>4</th>\n",
       "      <td>The Stepford Children, besides being a very go...</td>\n",
       "      <td>1</td>\n",
       "    </tr>\n",
       "    <tr>\n",
       "      <th>5</th>\n",
       "      <td>BLACK WATER is a thriller that manages to comp...</td>\n",
       "      <td>1</td>\n",
       "    </tr>\n",
       "    <tr>\n",
       "      <th>6</th>\n",
       "      <td>Black Scorpion is a fun flick about a groovy f...</td>\n",
       "      <td>1</td>\n",
       "    </tr>\n",
       "    <tr>\n",
       "      <th>7</th>\n",
       "      <td>Actually, I have more a question, than a comme...</td>\n",
       "      <td>1</td>\n",
       "    </tr>\n",
       "    <tr>\n",
       "      <th>8</th>\n",
       "      <td>This movie was never intended as a big-budget ...</td>\n",
       "      <td>1</td>\n",
       "    </tr>\n",
       "    <tr>\n",
       "      <th>9</th>\n",
       "      <td>Being from eastern PA, right on the border of ...</td>\n",
       "      <td>1</td>\n",
       "    </tr>\n",
       "    <tr>\n",
       "      <th>10</th>\n",
       "      <td>I would have to say this is a great movie. &lt;br...</td>\n",
       "      <td>1</td>\n",
       "    </tr>\n",
       "    <tr>\n",
       "      <th>11</th>\n",
       "      <td>This film would be considered controversial to...</td>\n",
       "      <td>1</td>\n",
       "    </tr>\n",
       "    <tr>\n",
       "      <th>12</th>\n",
       "      <td>It occurred to me while the final scene of the...</td>\n",
       "      <td>1</td>\n",
       "    </tr>\n",
       "    <tr>\n",
       "      <th>13</th>\n",
       "      <td>I suspect there's some revisionist history goi...</td>\n",
       "      <td>1</td>\n",
       "    </tr>\n",
       "    <tr>\n",
       "      <th>14</th>\n",
       "      <td>This show is really great. It's smart.It's fun...</td>\n",
       "      <td>1</td>\n",
       "    </tr>\n",
       "    <tr>\n",
       "      <th>15</th>\n",
       "      <td>As a European, the movie is a nice throwback t...</td>\n",
       "      <td>1</td>\n",
       "    </tr>\n",
       "    <tr>\n",
       "      <th>16</th>\n",
       "      <td>Just finished with Zombie Bloodbath part one o...</td>\n",
       "      <td>1</td>\n",
       "    </tr>\n",
       "    <tr>\n",
       "      <th>17</th>\n",
       "      <td>Seeing Gary Busey in a G rated film was a firs...</td>\n",
       "      <td>1</td>\n",
       "    </tr>\n",
       "    <tr>\n",
       "      <th>18</th>\n",
       "      <td>I first saw this film two years ago in the cin...</td>\n",
       "      <td>1</td>\n",
       "    </tr>\n",
       "    <tr>\n",
       "      <th>19</th>\n",
       "      <td>It could not have come from a different countr...</td>\n",
       "      <td>1</td>\n",
       "    </tr>\n",
       "    <tr>\n",
       "      <th>20</th>\n",
       "      <td>This film grabbed me right from its start, whe...</td>\n",
       "      <td>1</td>\n",
       "    </tr>\n",
       "    <tr>\n",
       "      <th>21</th>\n",
       "      <td>Quite a production from the director telling t...</td>\n",
       "      <td>1</td>\n",
       "    </tr>\n",
       "    <tr>\n",
       "      <th>22</th>\n",
       "      <td>This movies had to be the funniest movie i hav...</td>\n",
       "      <td>1</td>\n",
       "    </tr>\n",
       "    <tr>\n",
       "      <th>23</th>\n",
       "      <td>The word Ghilli actually means a small sharp w...</td>\n",
       "      <td>1</td>\n",
       "    </tr>\n",
       "    <tr>\n",
       "      <th>24</th>\n",
       "      <td>The Kid is a really good family movie about a ...</td>\n",
       "      <td>1</td>\n",
       "    </tr>\n",
       "    <tr>\n",
       "      <th>25</th>\n",
       "      <td>I was very excited to see a documentary on one...</td>\n",
       "      <td>1</td>\n",
       "    </tr>\n",
       "    <tr>\n",
       "      <th>26</th>\n",
       "      <td>This is one of those movies that was never pub...</td>\n",
       "      <td>1</td>\n",
       "    </tr>\n",
       "    <tr>\n",
       "      <th>27</th>\n",
       "      <td>This is my all time favourite movie ever!!!&lt;br...</td>\n",
       "      <td>1</td>\n",
       "    </tr>\n",
       "    <tr>\n",
       "      <th>28</th>\n",
       "      <td>This is a truly great and beautiful movie. The...</td>\n",
       "      <td>1</td>\n",
       "    </tr>\n",
       "    <tr>\n",
       "      <th>29</th>\n",
       "      <td>This movie was astonishing how good it was! Th...</td>\n",
       "      <td>1</td>\n",
       "    </tr>\n",
       "    <tr>\n",
       "      <th>...</th>\n",
       "      <td>...</td>\n",
       "      <td>...</td>\n",
       "    </tr>\n",
       "    <tr>\n",
       "      <th>49970</th>\n",
       "      <td>Hmmm, a sports team is in a plane crash, gets ...</td>\n",
       "      <td>0</td>\n",
       "    </tr>\n",
       "    <tr>\n",
       "      <th>49971</th>\n",
       "      <td>Being a fan of silent films, I looked forward ...</td>\n",
       "      <td>0</td>\n",
       "    </tr>\n",
       "    <tr>\n",
       "      <th>49972</th>\n",
       "      <td>This movie is just crap. Even though the direc...</td>\n",
       "      <td>0</td>\n",
       "    </tr>\n",
       "    <tr>\n",
       "      <th>49973</th>\n",
       "      <td>Robin Williams gave a fine performance in The ...</td>\n",
       "      <td>0</td>\n",
       "    </tr>\n",
       "    <tr>\n",
       "      <th>49974</th>\n",
       "      <td>A 1957 (yes, that's the correct date) J. Arthu...</td>\n",
       "      <td>0</td>\n",
       "    </tr>\n",
       "    <tr>\n",
       "      <th>49975</th>\n",
       "      <td>One of the worst films ever. Not funny, poor T...</td>\n",
       "      <td>0</td>\n",
       "    </tr>\n",
       "    <tr>\n",
       "      <th>49976</th>\n",
       "      <td>Some illegal so-called asylum seeker comes to ...</td>\n",
       "      <td>0</td>\n",
       "    </tr>\n",
       "    <tr>\n",
       "      <th>49977</th>\n",
       "      <td>OK, I didn't have high expectations but this f...</td>\n",
       "      <td>0</td>\n",
       "    </tr>\n",
       "    <tr>\n",
       "      <th>49978</th>\n",
       "      <td>This movie is one of the worst horror movies I...</td>\n",
       "      <td>0</td>\n",
       "    </tr>\n",
       "    <tr>\n",
       "      <th>49979</th>\n",
       "      <td>This movie was bad to say the least!!! The ple...</td>\n",
       "      <td>0</td>\n",
       "    </tr>\n",
       "    <tr>\n",
       "      <th>49980</th>\n",
       "      <td>Man would expect that a movie shot with an app...</td>\n",
       "      <td>0</td>\n",
       "    </tr>\n",
       "    <tr>\n",
       "      <th>49981</th>\n",
       "      <td>Cartoon Network seems to be desperate for rati...</td>\n",
       "      <td>0</td>\n",
       "    </tr>\n",
       "    <tr>\n",
       "      <th>49982</th>\n",
       "      <td>I've rented and watched this movie for the 1st...</td>\n",
       "      <td>0</td>\n",
       "    </tr>\n",
       "    <tr>\n",
       "      <th>49983</th>\n",
       "      <td>Intergalactic criminal Kol (Ross Hagen) has be...</td>\n",
       "      <td>0</td>\n",
       "    </tr>\n",
       "    <tr>\n",
       "      <th>49984</th>\n",
       "      <td>First of all there is Gujarati Theatre then th...</td>\n",
       "      <td>0</td>\n",
       "    </tr>\n",
       "    <tr>\n",
       "      <th>49985</th>\n",
       "      <td>You know all those letters to \"Father Christma...</td>\n",
       "      <td>0</td>\n",
       "    </tr>\n",
       "    <tr>\n",
       "      <th>49986</th>\n",
       "      <td>LOC could have been a very well made movie on ...</td>\n",
       "      <td>0</td>\n",
       "    </tr>\n",
       "    <tr>\n",
       "      <th>49987</th>\n",
       "      <td>Evil Breed is a very strange slasher flick tha...</td>\n",
       "      <td>0</td>\n",
       "    </tr>\n",
       "    <tr>\n",
       "      <th>49988</th>\n",
       "      <td>This movie should be nominated for a new genre...</td>\n",
       "      <td>0</td>\n",
       "    </tr>\n",
       "    <tr>\n",
       "      <th>49989</th>\n",
       "      <td>PLEASE TAKE A MINUTE TO READ MY ENTIRE REVIEW....</td>\n",
       "      <td>0</td>\n",
       "    </tr>\n",
       "    <tr>\n",
       "      <th>49990</th>\n",
       "      <td>Sadly, more downs than ups. The plot was prett...</td>\n",
       "      <td>0</td>\n",
       "    </tr>\n",
       "    <tr>\n",
       "      <th>49991</th>\n",
       "      <td>(I'll indicate in this review the point where ...</td>\n",
       "      <td>0</td>\n",
       "    </tr>\n",
       "    <tr>\n",
       "      <th>49992</th>\n",
       "      <td>Any film with a title as ridiculous as \"The Ba...</td>\n",
       "      <td>0</td>\n",
       "    </tr>\n",
       "    <tr>\n",
       "      <th>49993</th>\n",
       "      <td>Against All Hope is a very poorly made, someti...</td>\n",
       "      <td>0</td>\n",
       "    </tr>\n",
       "    <tr>\n",
       "      <th>49994</th>\n",
       "      <td>Ever since I was eight years old I have been a...</td>\n",
       "      <td>0</td>\n",
       "    </tr>\n",
       "    <tr>\n",
       "      <th>49995</th>\n",
       "      <td>Okay I must say that before the revealing of t...</td>\n",
       "      <td>0</td>\n",
       "    </tr>\n",
       "    <tr>\n",
       "      <th>49996</th>\n",
       "      <td>\"Fly Me To The Moon\" has to be the worst anima...</td>\n",
       "      <td>0</td>\n",
       "    </tr>\n",
       "    <tr>\n",
       "      <th>49997</th>\n",
       "      <td>Well, what can you say about a Barbara Cartlan...</td>\n",
       "      <td>0</td>\n",
       "    </tr>\n",
       "    <tr>\n",
       "      <th>49998</th>\n",
       "      <td>This is probably the most boring, worse and us...</td>\n",
       "      <td>0</td>\n",
       "    </tr>\n",
       "    <tr>\n",
       "      <th>49999</th>\n",
       "      <td>I ended up watching The Tenants with my close ...</td>\n",
       "      <td>0</td>\n",
       "    </tr>\n",
       "  </tbody>\n",
       "</table>\n",
       "<p>50000 rows × 2 columns</p>\n",
       "</div>"
      ],
      "text/plain": [
       "                                                  review  sentiment\n",
       "0      A recent re-issue of the French crime film (or...          1\n",
       "1      I watched Cold Mountain and the English Patien...          1\n",
       "2      For those who have enjoyed the Asterix books a...          1\n",
       "3      are you crazy or what? this movie has talent w...          1\n",
       "4      The Stepford Children, besides being a very go...          1\n",
       "5      BLACK WATER is a thriller that manages to comp...          1\n",
       "6      Black Scorpion is a fun flick about a groovy f...          1\n",
       "7      Actually, I have more a question, than a comme...          1\n",
       "8      This movie was never intended as a big-budget ...          1\n",
       "9      Being from eastern PA, right on the border of ...          1\n",
       "10     I would have to say this is a great movie. <br...          1\n",
       "11     This film would be considered controversial to...          1\n",
       "12     It occurred to me while the final scene of the...          1\n",
       "13     I suspect there's some revisionist history goi...          1\n",
       "14     This show is really great. It's smart.It's fun...          1\n",
       "15     As a European, the movie is a nice throwback t...          1\n",
       "16     Just finished with Zombie Bloodbath part one o...          1\n",
       "17     Seeing Gary Busey in a G rated film was a firs...          1\n",
       "18     I first saw this film two years ago in the cin...          1\n",
       "19     It could not have come from a different countr...          1\n",
       "20     This film grabbed me right from its start, whe...          1\n",
       "21     Quite a production from the director telling t...          1\n",
       "22     This movies had to be the funniest movie i hav...          1\n",
       "23     The word Ghilli actually means a small sharp w...          1\n",
       "24     The Kid is a really good family movie about a ...          1\n",
       "25     I was very excited to see a documentary on one...          1\n",
       "26     This is one of those movies that was never pub...          1\n",
       "27     This is my all time favourite movie ever!!!<br...          1\n",
       "28     This is a truly great and beautiful movie. The...          1\n",
       "29     This movie was astonishing how good it was! Th...          1\n",
       "...                                                  ...        ...\n",
       "49970  Hmmm, a sports team is in a plane crash, gets ...          0\n",
       "49971  Being a fan of silent films, I looked forward ...          0\n",
       "49972  This movie is just crap. Even though the direc...          0\n",
       "49973  Robin Williams gave a fine performance in The ...          0\n",
       "49974  A 1957 (yes, that's the correct date) J. Arthu...          0\n",
       "49975  One of the worst films ever. Not funny, poor T...          0\n",
       "49976  Some illegal so-called asylum seeker comes to ...          0\n",
       "49977  OK, I didn't have high expectations but this f...          0\n",
       "49978  This movie is one of the worst horror movies I...          0\n",
       "49979  This movie was bad to say the least!!! The ple...          0\n",
       "49980  Man would expect that a movie shot with an app...          0\n",
       "49981  Cartoon Network seems to be desperate for rati...          0\n",
       "49982  I've rented and watched this movie for the 1st...          0\n",
       "49983  Intergalactic criminal Kol (Ross Hagen) has be...          0\n",
       "49984  First of all there is Gujarati Theatre then th...          0\n",
       "49985  You know all those letters to \"Father Christma...          0\n",
       "49986  LOC could have been a very well made movie on ...          0\n",
       "49987  Evil Breed is a very strange slasher flick tha...          0\n",
       "49988  This movie should be nominated for a new genre...          0\n",
       "49989  PLEASE TAKE A MINUTE TO READ MY ENTIRE REVIEW....          0\n",
       "49990  Sadly, more downs than ups. The plot was prett...          0\n",
       "49991  (I'll indicate in this review the point where ...          0\n",
       "49992  Any film with a title as ridiculous as \"The Ba...          0\n",
       "49993  Against All Hope is a very poorly made, someti...          0\n",
       "49994  Ever since I was eight years old I have been a...          0\n",
       "49995  Okay I must say that before the revealing of t...          0\n",
       "49996  \"Fly Me To The Moon\" has to be the worst anima...          0\n",
       "49997  Well, what can you say about a Barbara Cartlan...          0\n",
       "49998  This is probably the most boring, worse and us...          0\n",
       "49999  I ended up watching The Tenants with my close ...          0\n",
       "\n",
       "[50000 rows x 2 columns]"
      ]
     },
     "execution_count": 5,
     "metadata": {},
     "output_type": "execute_result"
    }
   ],
   "source": [
    "df"
   ]
  },
  {
   "cell_type": "code",
   "execution_count": 6,
   "metadata": {
    "collapsed": true
   },
   "outputs": [],
   "source": [
    "#creiamo un file csv shuffolando i valori\n",
    "import numpy as np\n",
    "np.random.seed(0)\n",
    "df=df.reindex(np.random.permutation(df.index))\n",
    "df.to_csv('movie_data.csv', index=False, encoding='utf-8')"
   ]
  },
  {
   "cell_type": "code",
   "execution_count": 7,
   "metadata": {
    "collapsed": false
   },
   "outputs": [
    {
     "data": {
      "text/html": [
       "<div>\n",
       "<table border=\"1\" class=\"dataframe\">\n",
       "  <thead>\n",
       "    <tr style=\"text-align: right;\">\n",
       "      <th></th>\n",
       "      <th>review</th>\n",
       "      <th>sentiment</th>\n",
       "    </tr>\n",
       "  </thead>\n",
       "  <tbody>\n",
       "    <tr>\n",
       "      <th>0</th>\n",
       "      <td>Compared to the acclaimed Hollywood remake, th...</td>\n",
       "      <td>1</td>\n",
       "    </tr>\n",
       "    <tr>\n",
       "      <th>1</th>\n",
       "      <td>Worst Movie I Have Ever Seen! 90 Minutes of ex...</td>\n",
       "      <td>0</td>\n",
       "    </tr>\n",
       "    <tr>\n",
       "      <th>2</th>\n",
       "      <td>If this movie were more about Piper Perabo's c...</td>\n",
       "      <td>0</td>\n",
       "    </tr>\n",
       "    <tr>\n",
       "      <th>3</th>\n",
       "      <td>Gabe Ryan (Frankie Thomas) gets out of reform ...</td>\n",
       "      <td>1</td>\n",
       "    </tr>\n",
       "    <tr>\n",
       "      <th>4</th>\n",
       "      <td>Have you ever seen a movie made up entirely of...</td>\n",
       "      <td>0</td>\n",
       "    </tr>\n",
       "  </tbody>\n",
       "</table>\n",
       "</div>"
      ],
      "text/plain": [
       "                                              review  sentiment\n",
       "0  Compared to the acclaimed Hollywood remake, th...          1\n",
       "1  Worst Movie I Have Ever Seen! 90 Minutes of ex...          0\n",
       "2  If this movie were more about Piper Perabo's c...          0\n",
       "3  Gabe Ryan (Frankie Thomas) gets out of reform ...          1\n",
       "4  Have you ever seen a movie made up entirely of...          0"
      ]
     },
     "execution_count": 7,
     "metadata": {},
     "output_type": "execute_result"
    }
   ],
   "source": [
    "#leggiamo il file csv\n",
    "df=pd.read_csv('movie_data.csv', encoding='utf-8')\n",
    "df.head()"
   ]
  },
  {
   "cell_type": "code",
   "execution_count": 8,
   "metadata": {
    "collapsed": false
   },
   "outputs": [],
   "source": [
    "#eliminiamo i caratteri markup, individuiamo le emoticon e le mettiamo alla fine del testo, convertiamo tutto il testo in minuscolo\n",
    "import re\n",
    "def preprocessor(text):\n",
    "    text=re.sub('<[^>]*>','',text)\n",
    "    emoticons=re.findall('(?::|;|=)(?:-)?(?:\\)|\\(|D|P)', text)\n",
    "    text=(re.sub('[\\W]+', ' ',text.lower())+' '.join(emoticons).replace('-',''))\n",
    "    return text\n",
    "df['review']=df['review'].apply(preprocessor)"
   ]
  },
  {
   "cell_type": "code",
   "execution_count": 9,
   "metadata": {
    "collapsed": false
   },
   "outputs": [
    {
     "data": {
      "text/html": [
       "<div>\n",
       "<table border=\"1\" class=\"dataframe\">\n",
       "  <thead>\n",
       "    <tr style=\"text-align: right;\">\n",
       "      <th></th>\n",
       "      <th>review</th>\n",
       "      <th>sentiment</th>\n",
       "    </tr>\n",
       "  </thead>\n",
       "  <tbody>\n",
       "    <tr>\n",
       "      <th>0</th>\n",
       "      <td>compared to the acclaimed hollywood remake thi...</td>\n",
       "      <td>1</td>\n",
       "    </tr>\n",
       "    <tr>\n",
       "      <th>1</th>\n",
       "      <td>worst movie i have ever seen 90 minutes of exc...</td>\n",
       "      <td>0</td>\n",
       "    </tr>\n",
       "    <tr>\n",
       "      <th>2</th>\n",
       "      <td>if this movie were more about piper perabo s c...</td>\n",
       "      <td>0</td>\n",
       "    </tr>\n",
       "    <tr>\n",
       "      <th>3</th>\n",
       "      <td>gabe ryan frankie thomas gets out of reform sc...</td>\n",
       "      <td>1</td>\n",
       "    </tr>\n",
       "    <tr>\n",
       "      <th>4</th>\n",
       "      <td>have you ever seen a movie made up entirely of...</td>\n",
       "      <td>0</td>\n",
       "    </tr>\n",
       "  </tbody>\n",
       "</table>\n",
       "</div>"
      ],
      "text/plain": [
       "                                              review  sentiment\n",
       "0  compared to the acclaimed hollywood remake thi...          1\n",
       "1  worst movie i have ever seen 90 minutes of exc...          0\n",
       "2  if this movie were more about piper perabo s c...          0\n",
       "3  gabe ryan frankie thomas gets out of reform sc...          1\n",
       "4  have you ever seen a movie made up entirely of...          0"
      ]
     },
     "execution_count": 9,
     "metadata": {},
     "output_type": "execute_result"
    }
   ],
   "source": [
    "df.head()"
   ]
  },
  {
   "cell_type": "code",
   "execution_count": 10,
   "metadata": {
    "collapsed": false
   },
   "outputs": [],
   "source": [
    "#dividiamo le 50000 recensioni in train e test\n",
    "X_train=df.loc[:25000, 'review'].values\n",
    "y_train=df.loc[:25000, 'sentiment'].values\n",
    "X_test=df.loc[25000:, 'review'].values\n",
    "y_test=df.loc[25000:, 'sentiment'].values"
   ]
  },
  {
   "cell_type": "code",
   "execution_count": 11,
   "metadata": {
    "collapsed": false
   },
   "outputs": [],
   "source": [
    "from sklearn.model_selection import GridSearchCV\n",
    "from sklearn.pipeline import Pipeline\n",
    "from sklearn.linear_model import LogisticRegression\n",
    "from sklearn.feature_extraction.text import TfidfVectorizer\n"
   ]
  },
  {
   "cell_type": "code",
   "execution_count": 12,
   "metadata": {
    "collapsed": false
   },
   "outputs": [
    {
     "name": "stdout",
     "output_type": "stream",
     "text": [
      "[nltk_data] Downloading package stopwords to /home/ivan/nltk_data...\n",
      "[nltk_data]   Package stopwords is already up-to-date!\n"
     ]
    }
   ],
   "source": [
    "#importiamo il vocabolario inglese di stopwords\n",
    "import nltk\n",
    "nltk.download('stopwords')\n",
    "from nltk.corpus import stopwords\n",
    "stop=stopwords.words('english')"
   ]
  },
  {
   "cell_type": "code",
   "execution_count": 13,
   "metadata": {
    "collapsed": true
   },
   "outputs": [],
   "source": [
    "#separiamo le varie parole delle recensioni\n",
    "def tokenizer(text):\n",
    "    return text.split()"
   ]
  },
  {
   "cell_type": "code",
   "execution_count": 14,
   "metadata": {
    "collapsed": true
   },
   "outputs": [],
   "source": [
    "#definiamo il Porter stemmer per trasformare le varie parole separae nelle loro radici\n",
    "from nltk.stem.porter import PorterStemmer\n",
    "porter=PorterStemmer()\n",
    "def tokenizer_porter(text):\n",
    "    return [porter.stem(word) for word in text.split()]"
   ]
  },
  {
   "cell_type": "code",
   "execution_count": 15,
   "metadata": {
    "collapsed": false
   },
   "outputs": [],
   "source": [
    "#calcoliamo la term frequency - inverse document frequency (vettorizzazione delle recensioni)\n",
    "tfidf=TfidfVectorizer(strip_accents=None,\n",
    "                     lowercase=False,\n",
    "                     preprocessor=None)"
   ]
  },
  {
   "cell_type": "code",
   "execution_count": 16,
   "metadata": {
    "collapsed": false
   },
   "outputs": [],
   "source": [
    "#prepariamo i valori dei parametri per grid search\n",
    "param_grid=[{'vect__ngram_range':[(1,1)], #bag of words con una solo parola per token\n",
    "            'vect__stop_words': [stop, None], #proviamo sia ad elimnare le stop words (parole ricorrenti e non influenti)che a non eliminarle\n",
    "            'vect__tokenizer': [tokenizer, tokenizer_porter], #applichiamo lo stemming: le parole vengono trasformate nella loro radice\n",
    "             'clf__penalty': ['l1','l2'],\n",
    "             'clf__C': [1.0, 10.0, 100.0]},\n",
    "            {'vect__ngram_range':[(1,1)], #bag of words con una solo parola per token\n",
    "            'vect__stop_words': [stop, None], #proviamo sia ad elimnare le stop words (parole ricorrenti e non influenti)che a non eliminarle\n",
    "            'vect__tokenizer': [tokenizer, tokenizer_porter], #applichiamo lo stemming: le parole vengono trasformate nella loro radice\n",
    "             'vect__use_idf': [False],\n",
    "             'vect__norm': [None],\n",
    "             'clf__penalty': ['l1','l2'],\n",
    "             'clf__C': [1.0, 10.0, 100.0]}      \n",
    "           ] "
   ]
  },
  {
   "cell_type": "code",
   "execution_count": 17,
   "metadata": {
    "collapsed": false
   },
   "outputs": [],
   "source": [
    "#impostiamo la pipeline con vettorizzazione e classificazione\n",
    "lr_tfidf=Pipeline([('vect', tfidf),\n",
    "                   ('clf', LogisticRegression(random_state=0))])"
   ]
  },
  {
   "cell_type": "code",
   "execution_count": 18,
   "metadata": {
    "collapsed": false
   },
   "outputs": [],
   "source": [
    "#Eseguiamo il grid search con i parametri definiti sopra\n",
    "gs_lr_tfidf=GridSearchCV(lr_tfidf, param_grid,\n",
    "                        scoring='accuracy',\n",
    "                        cv=5,\n",
    "                        verbose=1,\n",
    "                        n_jobs=-1)"
   ]
  },
  {
   "cell_type": "code",
   "execution_count": 19,
   "metadata": {
    "collapsed": false
   },
   "outputs": [
    {
     "name": "stdout",
     "output_type": "stream",
     "text": [
      "Fitting 5 folds for each of 48 candidates, totalling 240 fits\n"
     ]
    },
    {
     "name": "stderr",
     "output_type": "stream",
     "text": [
      "[Parallel(n_jobs=-1)]: Done  34 tasks      | elapsed: 17.7min\n",
      "[Parallel(n_jobs=-1)]: Done 184 tasks      | elapsed: 100.5min\n",
      "[Parallel(n_jobs=-1)]: Done 240 out of 240 | elapsed: 137.3min finished\n"
     ]
    },
    {
     "data": {
      "text/plain": [
       "GridSearchCV(cv=5, error_score='raise',\n",
       "       estimator=Pipeline(steps=[('vect', TfidfVectorizer(analyzer='word', binary=False, decode_error='strict',\n",
       "        dtype=<class 'numpy.int64'>, encoding='utf-8', input='content',\n",
       "        lowercase=False, max_df=1.0, max_features=None, min_df=1,\n",
       "        ngram_range=(1, 1), norm='l2', preprocessor=None, smooth_idf=True,\n",
       " ...nalty='l2', random_state=0, solver='liblinear', tol=0.0001,\n",
       "          verbose=0, warm_start=False))]),\n",
       "       fit_params={}, iid=True, n_jobs=-1,\n",
       "       param_grid=[{'vect__ngram_range': [(1, 1)], 'vect__stop_words': [['i', 'me', 'my', 'myself', 'we', 'our', 'ours', 'ourselves', 'you', \"you're\", \"you've\", \"you'll\", \"you'd\", 'your', 'yours', 'yourself', 'yourselves', 'he', 'him', 'his', 'himself', 'she', \"she's\", 'her', 'hers', 'herself', 'it', \"it's...se_idf': [False], 'vect__norm': [None], 'clf__penalty': ['l1', 'l2'], 'clf__C': [1.0, 10.0, 100.0]}],\n",
       "       pre_dispatch='2*n_jobs', refit=True, return_train_score=True,\n",
       "       scoring='accuracy', verbose=1)"
      ]
     },
     "execution_count": 19,
     "metadata": {},
     "output_type": "execute_result"
    }
   ],
   "source": [
    "#addestriamo il modello\n",
    "gs_lr_tfidf.fit(X_train, y_train)"
   ]
  },
  {
   "cell_type": "code",
   "execution_count": 20,
   "metadata": {
    "collapsed": false
   },
   "outputs": [
    {
     "name": "stdout",
     "output_type": "stream",
     "text": [
      "Miglior set din parametri:  {'clf__C': 10.0, 'clf__penalty': 'l2', 'vect__ngram_range': (1, 1), 'vect__stop_words': None, 'vect__tokenizer': <function tokenizer at 0x7f084504b598>}\n"
     ]
    }
   ],
   "source": [
    "print('Miglior set din parametri:  %s' %gs_lr_tfidf.best_params_)"
   ]
  },
  {
   "cell_type": "code",
   "execution_count": 21,
   "metadata": {
    "collapsed": false
   },
   "outputs": [
    {
     "name": "stdout",
     "output_type": "stream",
     "text": [
      "Accuratezza: 0.893\n"
     ]
    }
   ],
   "source": [
    "print('Accuratezza: %.3f' %gs_lr_tfidf.best_score_)"
   ]
  },
  {
   "cell_type": "code",
   "execution_count": 22,
   "metadata": {
    "collapsed": true
   },
   "outputs": [],
   "source": [
    "clf=gs_lr_tfidf.best_estimator_"
   ]
  },
  {
   "cell_type": "code",
   "execution_count": 23,
   "metadata": {
    "collapsed": false
   },
   "outputs": [
    {
     "name": "stdout",
     "output_type": "stream",
     "text": [
      "Accuratezza sui dati test: 0.901\n"
     ]
    }
   ],
   "source": [
    "print('Accuratezza sui dati test: %.3f' %clf.score(X_test, y_test))"
   ]
  }
 ],
 "metadata": {
  "kernelspec": {
   "display_name": "Python 3",
   "language": "python",
   "name": "python3"
  },
  "language_info": {
   "codemirror_mode": {
    "name": "ipython",
    "version": 3
   },
   "file_extension": ".py",
   "mimetype": "text/x-python",
   "name": "python",
   "nbconvert_exporter": "python",
   "pygments_lexer": "ipython3",
   "version": "3.6.0"
  }
 },
 "nbformat": 4,
 "nbformat_minor": 2
}
